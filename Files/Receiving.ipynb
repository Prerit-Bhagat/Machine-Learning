{
 "cells": [
  {
   "cell_type": "code",
   "execution_count": 1,
   "id": "38711b59-5883-4309-8666-168c16dc865c",
   "metadata": {},
   "outputs": [],
   "source": [
    "import pickle\n",
    "import numpy as np"
   ]
  },
  {
   "cell_type": "code",
   "execution_count": 2,
   "id": "e9a0eeda-9bd3-4eb2-93b0-f25cbe1943bb",
   "metadata": {},
   "outputs": [],
   "source": [
    "with open('clf4.pkl','rb') as file:\n",
    "    clf=pickle.load(file)"
   ]
  },
  {
   "cell_type": "code",
   "execution_count": 10,
   "id": "01bf57bf-ff32-4c0b-b4a8-e8bfbe3588b4",
   "metadata": {},
   "outputs": [
    {
     "name": "stderr",
     "output_type": "stream",
     "text": [
      "C:\\Users\\hp\\AppData\\Local\\Programs\\Python\\Python312\\Lib\\site-packages\\sklearn\\base.py:493: UserWarning: X does not have valid feature names, but SimpleImputer was fitted with feature names\n",
      "  warnings.warn(\n",
      "C:\\Users\\hp\\AppData\\Local\\Programs\\Python\\Python312\\Lib\\site-packages\\sklearn\\base.py:493: UserWarning: X does not have valid feature names, but PowerTransformer was fitted with feature names\n",
      "  warnings.warn(\n"
     ]
    }
   ],
   "source": [
    "import numpy as np\n",
    "\n",
    "# Assuming clf is your classifier model\n",
    "# Example data (1D array with 5 elements)\n",
    "data = np.array([85.76,23.536,90.768,88.768,0.768,68.84])\n",
    "\n",
    "# Reshape the input data to a 2D array (1 sample, multiple features)\n",
    "data_reshaped = data.reshape(1, -1)\n",
    "\n",
    "# Predict using the reshaped data\n",
    "pred = clf.predict(data_reshaped)\n"
   ]
  },
  {
   "cell_type": "code",
   "execution_count": 11,
   "id": "7b116798-5970-4936-9077-501c0ef7509b",
   "metadata": {},
   "outputs": [
    {
     "data": {
      "text/plain": [
       "array([3], dtype=int64)"
      ]
     },
     "execution_count": 11,
     "metadata": {},
     "output_type": "execute_result"
    }
   ],
   "source": [
    "pred"
   ]
  },
  {
   "cell_type": "code",
   "execution_count": null,
   "id": "c7d42670-4df7-4daa-931c-2c47f3679cd6",
   "metadata": {},
   "outputs": [],
   "source": []
  }
 ],
 "metadata": {
  "kernelspec": {
   "display_name": "Python 3 (ipykernel)",
   "language": "python",
   "name": "python3"
  },
  "language_info": {
   "codemirror_mode": {
    "name": "ipython",
    "version": 3
   },
   "file_extension": ".py",
   "mimetype": "text/x-python",
   "name": "python",
   "nbconvert_exporter": "python",
   "pygments_lexer": "ipython3",
   "version": "3.12.3"
  }
 },
 "nbformat": 4,
 "nbformat_minor": 5
}
